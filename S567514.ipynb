{
 "cells": [
  {
   "cell_type": "markdown",
   "id": "60878671-e0b1-419d-b341-5771591f4015",
   "metadata": {},
   "source": [
    "# Task 10"
   ]
  },
  {
   "cell_type": "markdown",
   "id": "496d3a22-e892-4df6-93ba-8c2c34a9d7c6",
   "metadata": {},
   "source": [
    "## Author: Prabha Sapkota"
   ]
  },
  {
   "cell_type": "code",
   "execution_count": 1,
   "id": "1dddf3c6-bc2d-4564-b8b5-1dc571ab3484",
   "metadata": {},
   "outputs": [
    {
     "name": "stdout",
     "output_type": "stream",
     "text": [
      "*      *\n",
      "**    **\n",
      "***  ***\n",
      "********\n"
     ]
    }
   ],
   "source": [
    "rows = 4\n",
    "\n",
    "for i in range(1, rows + 1):\n",
    "    for j in range(1, i + 1):\n",
    "        print(\"*\", end=\"\")\n",
    "    for k in range(1, (2 * rows - 2 * i) + 1):\n",
    "        print(\" \", end=\"\")\n",
    "    for l in range(1, i + 1):\n",
    "        print(\"*\", end=\"\")\n",
    "    print()"
   ]
  }
 ],
 "metadata": {
  "kernelspec": {
   "display_name": "Python 3 (ipykernel)",
   "language": "python",
   "name": "python3"
  },
  "language_info": {
   "codemirror_mode": {
    "name": "ipython",
    "version": 3
   },
   "file_extension": ".py",
   "mimetype": "text/x-python",
   "name": "python",
   "nbconvert_exporter": "python",
   "pygments_lexer": "ipython3",
   "version": "3.11.4"
  }
 },
 "nbformat": 4,
 "nbformat_minor": 5
}
