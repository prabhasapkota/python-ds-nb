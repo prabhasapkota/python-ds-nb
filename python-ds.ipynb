{
 "cells": [
  {
   "attachments": {},
   "cell_type": "markdown",
   "metadata": {},
   "source": [
    "# Web Mining and Applied NLP (44-620)\n",
    "\n",
    "## Python Notebooks, Basics, and Data Structures\n",
    "\n",
    "### Question 1:\n",
    "\n",
    "### Student Name: Prabha Sapkota\n",
    "### GitHub link: https://github.com/prabhasapkota\n",
    "\n",
    "Perform the tasks described in the Markdown cells below.  When you have completed the assignment make sure your code cells have all been run (and have output beneath them) and ensure you have committed and pushed ALL of your changes to your assignment repository.\n",
    "\n",
    "Every question that requires you to write code will have a code cell underneath it; you may either write your entire solution in that cell or write it in a python file (`.py`), then import and run the appropriate code to answer the question.\n",
    "\n",
    "Do not use external modules (`math`, etc) for this assignment unless you are explicitly instructed to, though you may use built in python functions (`min`, `max`, etc) as you wish."
   ]
  },
  {
   "attachments": {},
   "cell_type": "markdown",
   "metadata": {},
   "source": [
    "1. Modify the Markdown cell above to put your name after \"Student Name:\"; you will be expected to do this in all assignments presented in this format for this class."
   ]
  },
  {
   "cell_type": "markdown",
   "metadata": {},
   "source": [
    "### Question 2:"
   ]
  },
  {
   "attachments": {},
   "cell_type": "markdown",
   "metadata": {},
   "source": [
    "2. Write code that divides any two numbers, stores the result in a variable, and prints the result with an appropriate label."
   ]
  },
  {
   "cell_type": "code",
   "execution_count": 3,
   "metadata": {},
   "outputs": [
    {
     "name": "stdout",
     "output_type": "stream",
     "text": [
      "The result of dividing x by y is: 6.67\n"
     ]
    }
   ],
   "source": [
    "# Input numbers\n",
    "x = 20\n",
    "y = 3\n",
    "\n",
    "# Perform division\n",
    "result = x / y\n",
    "\n",
    "# Print result with label\n",
    "print(f\"The result of dividing x by y is: {result:.2f}\")\n"
   ]
  },
  {
   "cell_type": "markdown",
   "metadata": {},
   "source": [
    "### Question 3:"
   ]
  },
  {
   "attachments": {},
   "cell_type": "markdown",
   "metadata": {},
   "source": [
    "3. Using loops (and potentially conditionals), write Python code that prints the factorial of each integer from 1 through 10 (which you can store in a variable if you want). The factorial of an integer is the product of all of the integers of 1 through the number. Print the result with an appropriate label."
   ]
  },
  {
   "cell_type": "code",
   "execution_count": 4,
   "metadata": {},
   "outputs": [
    {
     "name": "stdout",
     "output_type": "stream",
     "text": [
      "The factorial of 1 is: 1\n",
      "The factorial of 2 is: 2\n",
      "The factorial of 3 is: 6\n",
      "The factorial of 4 is: 24\n",
      "The factorial of 5 is: 120\n",
      "The factorial of 6 is: 720\n",
      "The factorial of 7 is: 5040\n",
      "The factorial of 8 is: 40320\n",
      "The factorial of 9 is: 362880\n",
      "The factorial of 10 is: 3628800\n"
     ]
    }
   ],
   "source": [
    "# Loop through integers from 1 to 10\n",
    "for i in range(1, 11):\n",
    "    factorial = 1\n",
    "    # Calculate factorial of the current integer\n",
    "    for j in range(1, i + 1):\n",
    "        factorial *= j\n",
    "    # Print the factorial with an appropriate label\n",
    "    print(f\"The factorial of {i} is: {factorial}\")\n"
   ]
  },
  {
   "cell_type": "markdown",
   "metadata": {},
   "source": [
    "### Question 4:"
   ]
  },
  {
   "attachments": {},
   "cell_type": "markdown",
   "metadata": {},
   "source": [
    "4. Write a python function that takes a single parameter and calculates and returns the average (mean) of the values in the parameter (which you may assume is iterable).  Show that your function works by printing the result of calling the function on the list in the cell below."
   ]
  },
  {
   "cell_type": "code",
   "execution_count": 6,
   "metadata": {},
   "outputs": [
    {
     "name": "stdout",
     "output_type": "stream",
     "text": [
      "The average of the values in the list is: 0.0\n"
     ]
    }
   ],
   "source": [
    "def calculate_average(values):\n",
    "\n",
    "    # Calculate the sum of all values in the iterable\n",
    "    total_sum = sum(values)\n",
    "    \n",
    "    # Calculate the number of values in the iterable\n",
    "    num_values = len(values)\n",
    "    \n",
    "    # Calculate the average by dividing the sum by the number of values\n",
    "    average = total_sum / num_values\n",
    "    \n",
    "    return average\n",
    "\n",
    "# Test the function\n",
    "test_list = [1, -1, 2, -2, 3, -3, 4, -4]\n",
    "average_result = calculate_average(test_list)\n",
    "print(\"The average of the values in the list is:\", average_result)"
   ]
  },
  {
   "cell_type": "markdown",
   "metadata": {},
   "source": [
    "### Question 5:"
   ]
  },
  {
   "attachments": {},
   "cell_type": "markdown",
   "metadata": {},
   "source": [
    "5. Using your mean function above, write a function that calculates the variance of the list of numbers (see https://en.wikipedia.org/wiki/Variance for more information on the formula). In short:\n",
    "* subtract the mean of the elements in the list from every element in the list; store these values in a new list\n",
    "* square every element in the new list and sum the elements together\n",
    "* divide the resulting number by N (where N is the length of the original list)\n",
    "\n",
    "Show the result of calling your function in the lists in the code cell. You must use one or more list comprehensions or map/filter in your code.\n"
   ]
  },
  {
   "cell_type": "code",
   "execution_count": 7,
   "metadata": {},
   "outputs": [
    {
     "name": "stdout",
     "output_type": "stream",
     "text": [
      "The variance of list1 is: 1.13973309\n",
      "The variance of list2 is: 0.9257232841\n"
     ]
    }
   ],
   "source": [
    "def calculate_variance(values):\n",
    "    \n",
    "    # Calculate the mean of the values\n",
    "    mean = sum(values) / len(values)\n",
    "    \n",
    "    # Subtract the mean from every element and square them\n",
    "    squared_diff = [(x - mean) ** 2 for x in values]\n",
    "    \n",
    "    # Sum the squared differences and divide by the number of elements\n",
    "    variance = sum(squared_diff) / len(values)\n",
    "    \n",
    "    return variance\n",
    "\n",
    "# Test the function with list1\n",
    "list1 = [5.670e-1, -1.480e+0, -5.570e-1, -1.470e+0, 7.340e-1, 1.050e+0, 4.480e-1, 2.570e-1, -1.970e+0, -1.460e+0]\n",
    "variance_list1 = calculate_variance(list1)\n",
    "print(\"The variance of list1 is:\", variance_list1)\n",
    "\n",
    "# Test the function with list2\n",
    "list2 = [-1.780e+0, 2.640e-1, 1.160e+0, 9.080e-1, 1.780e+0, 1.080e+0, 1.050e+0, -4.630e-2, 1.520e+0, 5.350e-1]\n",
    "variance_list2 = calculate_variance(list2)\n",
    "print(\"The variance of list2 is:\", variance_list2)\n"
   ]
  },
  {
   "cell_type": "markdown",
   "metadata": {},
   "source": [
    "### Question 6:"
   ]
  },
  {
   "attachments": {},
   "cell_type": "markdown",
   "metadata": {},
   "source": [
    "6. Create a list with at least 15 elements in it. Use list slicing to print the following:\n",
    "* The first 5 elements of the list\n",
    "* The last 5 elements of the list\n",
    "* The list reversed (hint, show the entire list with a stride of -1)\n",
    "* Every second element in the list\n",
    "* Every third element in the list (stride of 3)"
   ]
  },
  {
   "cell_type": "code",
   "execution_count": 8,
   "metadata": {},
   "outputs": [
    {
     "name": "stdout",
     "output_type": "stream",
     "text": [
      "The first 5 elements of the list: [1, 2, 3, 4, 5]\n",
      "The last 5 elements of the list: [11, 12, 13, 14, 15]\n",
      "The list reversed: [15, 14, 13, 12, 11, 10, 9, 8, 7, 6, 5, 4, 3, 2, 1]\n",
      "Every second element in the list: [1, 3, 5, 7, 9, 11, 13, 15]\n",
      "Every third element in the list: [1, 4, 7, 10, 13]\n"
     ]
    }
   ],
   "source": [
    "# Create a list with at least 15 elements\n",
    "my_list = [1, 2, 3, 4, 5, 6, 7, 8, 9, 10, 11, 12, 13, 14, 15]\n",
    "\n",
    "print(\"The first 5 elements of the list:\", my_list[:5])\n",
    "print(\"The last 5 elements of the list:\", my_list[-5:])\n",
    "print(\"The list reversed:\", my_list[::-1])\n",
    "print(\"Every second element in the list:\", my_list[::2])\n",
    "print(\"Every third element in the list:\", my_list[::3])"
   ]
  },
  {
   "cell_type": "markdown",
   "metadata": {},
   "source": [
    "### Question 7: "
   ]
  },
  {
   "attachments": {},
   "cell_type": "markdown",
   "metadata": {},
   "source": [
    "7. Build a dictionary that contains the following information about this class (with appropriate names as keys):\n",
    "* The name\n",
    "* The course number\n",
    "* The semester/term in which you are taking this course\n",
    "* The number of credit hours this course counts for\n",
    "* A list of the course learning objectives\n",
    "\n",
    "The majority of this information can be found in the syllabus. Print the dictionary."
   ]
  },
  {
   "cell_type": "code",
   "execution_count": 9,
   "metadata": {},
   "outputs": [
    {
     "name": "stdout",
     "output_type": "stream",
     "text": [
      "Class Information:\n",
      "Name: Web Mining and Applied NLP\n",
      "Course_number: CSIS-44620\n",
      "Semester: Spring 2024\n",
      "Credit_hours: 3\n",
      "Learning_objectives: ['Introduction and Version Control', 'Learn about Python Notebook and Data Structures', 'Understand Visualizations', 'Learn about Natural Language ProcessingHTML structure and the browser inspectorWeb Scraping']\n"
     ]
    }
   ],
   "source": [
    "# Define class information\n",
    "class_info = {\n",
    "    'name': 'Web Mining and Applied NLP',\n",
    "    'course_number': 'CSIS-44620',\n",
    "    'semester': 'Spring 2024',\n",
    "    'credit_hours': 3,\n",
    "    'learning_objectives': [\n",
    "        'Introduction and Version Control',\n",
    "        'Learn about Python Notebook and Data Structures',\n",
    "        'Understand Visualizations',\n",
    "        'Learn about Natural Language Processing'\n",
    "        'HTML structure and the browser inspector'\n",
    "        'Web Scraping'\n",
    "    ]\n",
    "}\n",
    "\n",
    "# Print the dictionary\n",
    "print(\"Class Information:\")\n",
    "for key, value in class_info.items():\n",
    "    print(f\"{key.capitalize()}: {value}\")\n"
   ]
  },
  {
   "cell_type": "markdown",
   "metadata": {},
   "source": [
    "### Question 8:"
   ]
  },
  {
   "attachments": {},
   "cell_type": "markdown",
   "metadata": {},
   "source": [
    "8.  Given the dictionary defined in the code cell below, print the list of level 3 spells the character has."
   ]
  },
  {
   "cell_type": "code",
   "execution_count": 12,
   "metadata": {},
   "outputs": [
    {
     "name": "stdout",
     "output_type": "stream",
     "text": [
      "List of Level 3 Spells:\n",
      "['Mass Healing Word', 'Nondetection', 'Revivify', 'Feign Death', 'Speak with Dead']\n"
     ]
    }
   ],
   "source": [
    "player_character = {\n",
    "    'name': 'Kitab',\n",
    "    'class': [('Cleric: Knowledge', 7)],\n",
    "    'spells': {\n",
    "        'cantrip': ['Guidance', 'Light', 'Thaumaturgy', 'Toll the Dead', 'Word of Radiance'],\n",
    "        'level 1': ['Command', 'Detect Magic', 'Healing Word', 'Identify', 'Sleep'],\n",
    "        'level 2': ['Augury', 'Calm Emotions', 'Command', 'Invisibility', 'Lesser Restoration'],\n",
    "        'level 3': ['Mass Healing Word', 'Nondetection', 'Revivify', 'Feign Death', 'Speak with Dead'],\n",
    "        'level 4': ['Banishment', 'Confusion']\n",
    "    }\n",
    "}\n",
    "\n",
    "# Print the list of level 3 spells\n",
    "print(\"List of Level 3 Spells:\")\n",
    "print(player_character['spells']['level 3'])"
   ]
  },
  {
   "cell_type": "markdown",
   "metadata": {},
   "source": [
    "### Question 9: "
   ]
  },
  {
   "attachments": {},
   "cell_type": "markdown",
   "metadata": {},
   "source": [
    "9. Write code to determine the number of unique elements in the list below.  You MUST use a set in finding your solution.  Print the number of unique values in the list with an appropriate label."
   ]
  },
  {
   "cell_type": "code",
   "execution_count": 13,
   "metadata": {},
   "outputs": [
    {
     "name": "stdout",
     "output_type": "stream",
     "text": [
      "Number of unique values in the list: 12\n"
     ]
    }
   ],
   "source": [
    "values = [10, 11, 10, 8, 1, 12, 0, 1, 6, 5, 5, 13, 6, 15, 0, 0, 1, 1, 9, 7]\n",
    "\n",
    "# Use a set to find unique elements\n",
    "unique_elements = set(values)\n",
    "\n",
    "# Calculate the number of unique elements\n",
    "num_unique_elements = len(unique_elements)\n",
    "\n",
    "print(\"Number of unique values in the list:\", num_unique_elements)"
   ]
  },
  {
   "attachments": {},
   "cell_type": "markdown",
   "metadata": {},
   "source": [
    "10. Create a new Jupyter Notebook (the name of the notebook should be your S number). Add a Markdown cell that contains your name. Add a Code cell and write Python that uses loops to draw the following pattern:\n",
    "\n",
    "```\n",
    "*      *\n",
    "**    **\n",
    "***  ***\n",
    "********\n",
    "```\n",
    "Make sure to add and submit both the new notebook and the changes to this notebook for this assignment."
   ]
  }
 ],
 "metadata": {
  "kernelspec": {
   "display_name": "Python 3 (ipykernel)",
   "language": "python",
   "name": "python3"
  },
  "language_info": {
   "codemirror_mode": {
    "name": "ipython",
    "version": 3
   },
   "file_extension": ".py",
   "mimetype": "text/x-python",
   "name": "python",
   "nbconvert_exporter": "python",
   "pygments_lexer": "ipython3",
   "version": "3.11.4"
  }
 },
 "nbformat": 4,
 "nbformat_minor": 4
}
